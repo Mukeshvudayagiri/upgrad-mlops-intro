{
  "cells": [
    {
      "cell_type": "markdown",
      "metadata": {
        "id": "view-in-github",
        "colab_type": "text"
      },
      "source": [
        "<a href=\"https://colab.research.google.com/github/Mukeshvudayagiri/upgrad-mlops-intro/blob/main/Clustering_KMeans.ipynb\" target=\"_parent\"><img src=\"https://colab.research.google.com/assets/colab-badge.svg\" alt=\"Open In Colab\"/></a>"
      ]
    },
    {
      "cell_type": "markdown",
      "metadata": {
        "id": "7LNw6gAI85PU"
      },
      "source": [
        "# Unsupervised Learning"
      ]
    },
    {
      "cell_type": "code",
      "execution_count": null,
      "metadata": {
        "id": "65TSS3WU85PV"
      },
      "outputs": [],
      "source": [
        "%matplotlib inline\n",
        "import numpy as np\n",
        "import matplotlib.pyplot as plt\n",
        "\n",
        "# use seaborn plotting defaults\n",
        "import seaborn as sns; sns.set()"
      ]
    },
    {
      "cell_type": "markdown",
      "metadata": {
        "id": "eNfYwH-d85PW"
      },
      "source": [
        "# Application of KMeans Clustering"
      ]
    },
    {
      "cell_type": "markdown",
      "metadata": {
        "cell_style": "split",
        "id": "MQPMIZlC85PW"
      },
      "source": [
        "## Dataset\n",
        "\n",
        "- Hand-written digits dataset\n",
        "- MNIST (Modified National Institute of Standards and Technology) database ([uci link](https://archive.ics.uci.edu/ml/datasets/optical+recognition+of+handwritten+digits))\n",
        "- Commonly used for classification and clustering exercises"
      ]
    },
    {
      "cell_type": "markdown",
      "metadata": {
        "cell_style": "split",
        "id": "2RSgzQm185PW"
      },
      "source": [
        "![](https://upload.wikimedia.org/wikipedia/commons/2/27/MnistExamples.png)"
      ]
    },
    {
      "cell_type": "code",
      "execution_count": null,
      "metadata": {
        "id": "e4o4t2Ja85PW"
      },
      "outputs": [],
      "source": [
        "from sklearn.datasets import load_digits\n",
        "digits = load_digits()"
      ]
    },
    {
      "cell_type": "code",
      "execution_count": null,
      "metadata": {
        "id": "383pP7ua85PW"
      },
      "outputs": [],
      "source": [
        "digits.data.shape"
      ]
    },
    {
      "cell_type": "code",
      "execution_count": null,
      "metadata": {
        "id": "NNObK6Ii85PW"
      },
      "outputs": [],
      "source": [
        "digits.target[:20]"
      ]
    },
    {
      "cell_type": "code",
      "execution_count": null,
      "metadata": {
        "cell_style": "center",
        "id": "NsHeGzrH85PW"
      },
      "outputs": [],
      "source": [
        "digits.data[0].reshape((8,8))"
      ]
    },
    {
      "cell_type": "code",
      "execution_count": null,
      "metadata": {
        "id": "R56I__CD85PW"
      },
      "outputs": [],
      "source": [
        "plt.imshow(digits.data[0].reshape((8,8)), cmap=plt.cm.binary);"
      ]
    },
    {
      "cell_type": "code",
      "execution_count": null,
      "metadata": {
        "id": "cgNZsl7685PW"
      },
      "outputs": [],
      "source": [
        "fig = plt.figure(figsize=(10,3))\n",
        "for i in range(5):\n",
        "    ax = fig.add_subplot(1,5,i+1, xticks=[], yticks=[])\n",
        "    ax.imshow(digits.data[i].reshape((8,8)), cmap=plt.cm.binary)\n",
        "    ax.text(0,0,digits.target[i])"
      ]
    },
    {
      "cell_type": "code",
      "execution_count": null,
      "metadata": {
        "id": "10S00qla85PW"
      },
      "outputs": [],
      "source": [
        "fig = plt.figure(figsize=(10,10))\n",
        "for i in range(10):\n",
        "    for j in range(10):\n",
        "        ax = fig.add_subplot(10,10,10*i+j+1, xticks=[], yticks=[])\n",
        "        ax.imshow(digits.data[10*i+j].reshape((8,8)), cmap=plt.cm.binary)\n",
        "        ax.text(0,0,digits.target[10*i+j])"
      ]
    },
    {
      "cell_type": "code",
      "execution_count": null,
      "metadata": {
        "id": "2cviELg885PW"
      },
      "outputs": [],
      "source": [
        "from sklearn.cluster import KMeans\n",
        "est = KMeans(n_clusters=10, precompute_distances=False, algorithm='full', max_iter=100)\n",
        "clusters = est.fit_predict(digits.data)"
      ]
    },
    {
      "cell_type": "code",
      "execution_count": null,
      "metadata": {
        "id": "RqKVLAfu85PW"
      },
      "outputs": [],
      "source": [
        "clusters[:10]"
      ]
    },
    {
      "cell_type": "code",
      "execution_count": null,
      "metadata": {
        "id": "iQNP2H2s85PW"
      },
      "outputs": [],
      "source": [
        "digits.target[:10]"
      ]
    },
    {
      "cell_type": "code",
      "execution_count": null,
      "metadata": {
        "id": "S7AC6f8R85PX"
      },
      "outputs": [],
      "source": [
        "est.cluster_centers_.shape"
      ]
    },
    {
      "cell_type": "code",
      "execution_count": null,
      "metadata": {
        "id": "kFssslpW85PX"
      },
      "outputs": [],
      "source": [
        "fig = plt.figure(figsize=(8, 3))\n",
        "for i in range(10):\n",
        "    ax = fig.add_subplot(2, 5, 1 + i, xticks=[], yticks=[])\n",
        "    ax.imshow(est.cluster_centers_[i].reshape((8, 8)), cmap=plt.cm.binary)"
      ]
    },
    {
      "cell_type": "code",
      "execution_count": null,
      "metadata": {
        "id": "7rsqKmck85PX"
      },
      "outputs": [],
      "source": [
        "from scipy.stats import mode\n",
        "\n",
        "labels = np.zeros_like(clusters)\n",
        "for i in range(10):\n",
        "    mask = (clusters == i)\n",
        "    labels[mask] = mode(digits.target[mask])[0]"
      ]
    },
    {
      "cell_type": "code",
      "execution_count": null,
      "metadata": {
        "id": "x_6C9yHx85PX"
      },
      "outputs": [],
      "source": [
        "label = 0\n",
        "fig = plt.figure(figsize=(20,3))\n",
        "for i in range(10):\n",
        "    ax = fig.add_subplot(1,10,i+1, xticks=[], yticks=[])\n",
        "    ax.imshow(digits.data[labels==label][i].reshape((8,8)), cmap=plt.cm.binary)\n",
        "    ax.text(0,0,digits.target[labels==label][i])\n",
        "    ax.text(0,7,labels[labels==label][i])"
      ]
    },
    {
      "cell_type": "markdown",
      "metadata": {
        "id": "49IhHN1y85PX"
      },
      "source": [
        "# Visualizing the clusters"
      ]
    },
    {
      "cell_type": "markdown",
      "metadata": {
        "id": "V5ddw0TY85PX"
      },
      "source": [
        "- Visualization in 64D space?\n",
        "    - Compress to visualizable dimensions"
      ]
    },
    {
      "cell_type": "code",
      "execution_count": null,
      "metadata": {
        "id": "_XotU9U585PX"
      },
      "outputs": [],
      "source": [
        "from sklearn.decomposition import PCA\n",
        "\n",
        "X = PCA(2).fit_transform(digits.data)"
      ]
    },
    {
      "cell_type": "code",
      "execution_count": null,
      "metadata": {
        "id": "GtcXdowB85PX"
      },
      "outputs": [],
      "source": [
        "kwargs = dict(cmap = plt.cm.get_cmap('rainbow', 10), edgecolor='none', alpha=0.6)\n",
        "fig, (ax1, ax2) = plt.subplots(1, 2, figsize=(10, 4))\n",
        "\n",
        "ax1.scatter(X[:, 0], X[:, 1], c=labels, **kwargs)\n",
        "ax1.set_title('learned cluster labels')\n",
        "\n",
        "sc = ax2.scatter(X[:, 0], X[:, 1], c=digits.target, **kwargs)\n",
        "ax2.set_title('true labels')\n",
        "fig.legend(*sc.legend_elements(), loc='upper right');"
      ]
    },
    {
      "cell_type": "code",
      "execution_count": null,
      "metadata": {
        "id": "jfkLb29d85PX"
      },
      "outputs": [],
      "source": [
        "from sklearn.metrics import accuracy_score\n",
        "accuracy_score(digits.target, labels)"
      ]
    },
    {
      "cell_type": "code",
      "execution_count": null,
      "metadata": {
        "cell_style": "center",
        "id": "Hp4NhS3T85PX"
      },
      "outputs": [],
      "source": [
        "from sklearn.metrics import confusion_matrix\n",
        "print(confusion_matrix(digits.target, labels))"
      ]
    },
    {
      "cell_type": "code",
      "execution_count": null,
      "metadata": {
        "cell_style": "center",
        "id": "-vh8x4_S85PX"
      },
      "outputs": [],
      "source": [
        "plt.imshow(confusion_matrix(digits.target, labels),\n",
        "           cmap='Blues', interpolation='nearest')\n",
        "plt.colorbar()\n",
        "plt.grid(False)\n",
        "plt.ylabel('true')\n",
        "plt.xlabel('predicted');"
      ]
    }
  ],
  "metadata": {
    "kernelspec": {
      "display_name": "Python 3",
      "language": "python",
      "name": "python3"
    },
    "language_info": {
      "codemirror_mode": {
        "name": "ipython",
        "version": 3
      },
      "file_extension": ".py",
      "mimetype": "text/x-python",
      "name": "python",
      "nbconvert_exporter": "python",
      "pygments_lexer": "ipython3",
      "version": "3.8.17"
    },
    "colab": {
      "provenance": [],
      "include_colab_link": true
    }
  },
  "nbformat": 4,
  "nbformat_minor": 0
}